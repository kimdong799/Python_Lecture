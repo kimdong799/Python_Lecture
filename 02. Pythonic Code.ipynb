{
 "cells": [
  {
   "cell_type": "markdown",
   "id": "a2a6bfed",
   "metadata": {},
   "source": [
    "# 자체 시퀀스 생성"
   ]
  },
  {
   "cell_type": "markdown",
   "id": "e46849d1",
   "metadata": {},
   "source": [
    "- python만의 인덱싱/슬라이싱 기능은 **__getitem__**라는 매직메소드 덕분에 동작한다.\n",
    "- myobject[key]와 같은 형태를 사용할 때 호출되는 메소드로 key에 해당하는 대괄호 안의 값을 파라미터로 전달한다.\n",
    "\n",
    "\n",
    "- 클래스가 시퀀스임을 선언하기 위해 collections.abc 모듈의 Sequence 인터페이스를 구현해야한다."
   ]
  },
  {
   "cell_type": "code",
   "execution_count": 1,
   "id": "0ad4d2bf",
   "metadata": {
    "ExecuteTime": {
     "end_time": "2023-01-04T05:41:14.108177Z",
     "start_time": "2023-01-04T05:41:14.098952Z"
    }
   },
   "outputs": [],
   "source": [
    "from collections.abc import Sequence\n",
    "\n",
    "class Items:\n",
    "    def __init__(self, *values):\n",
    "        self._values = list(values)\n",
    "    \n",
    "    def __len__(self):\n",
    "        return len(self._values)\n",
    "    \n",
    "    def __getitem__(self, item):\n",
    "        return self._values.__getitem__(item)"
   ]
  },
  {
   "cell_type": "code",
   "execution_count": 13,
   "id": "2a26891f",
   "metadata": {
    "ExecuteTime": {
     "end_time": "2023-01-04T05:45:01.201466Z",
     "start_time": "2023-01-04T05:45:01.186465Z"
    }
   },
   "outputs": [
    {
     "name": "stdout",
     "output_type": "stream",
     "text": [
      "5\n",
      "8\n"
     ]
    }
   ],
   "source": [
    "print(Items(9, 8, 7, 6, 5).__len__())\n",
    "print(Items(9, 8, 7, 6, 5).__getitem__(1))"
   ]
  },
  {
   "cell_type": "markdown",
   "id": "f595963b",
   "metadata": {},
   "source": [
    "# 컨텍스트 관리자(context manager)\n",
    "\n",
    "- 컨텍스트 관리자는 파이썬이 제공하는 유용한 기능\n",
    "- 패턴에 잘 대응되기 때문에 유용함\n",
    "- 사전 조건과 사후 조건이 있는 일부 코드를 실행하는 경우에 사용할 수 있음\n",
    "\n",
    "\n",
    "- 리소스 관리와 관련해 파일을 열면 파일 디스크립터 누수를 막기 위해 작업이 끝나면 적절히 닫히길 기대함\n",
    "- 일반적으로 할당된 모든 리소스를 해제해야하지만 예외가 발생한 경우 혹은 오류를 처리해야 하는 경우 가능한 모든 조합과 실행 경로를 처리하여 디버깅하는 것이 어렵다는 점을 감안해 일반적으로 finally 블록에 정리 코드를 넣는다."
   ]
  },
  {
   "cell_type": "code",
   "execution_count": 21,
   "id": "76fad1b9",
   "metadata": {
    "ExecuteTime": {
     "end_time": "2023-01-04T06:11:07.434845Z",
     "start_time": "2023-01-04T06:11:07.416848Z"
    }
   },
   "outputs": [
    {
     "name": "stdout",
     "output_type": "stream",
     "text": [
      "./data/test.txt is opend\n",
      "./data/test.txt is closed\n"
     ]
    }
   ],
   "source": [
    "def process_file(file):\n",
    "    print(f\"{file.name} is opend\")\n",
    "    return None\n",
    "\n",
    "filename = \"./data/test.txt\"\n",
    "fd = open(filename)\n",
    "try:\n",
    "    process_file(fd)\n",
    "finally:\n",
    "    print(f\"{filename} is closed\")\n",
    "    fd.close()"
   ]
  },
  {
   "cell_type": "markdown",
   "id": "f7bab415",
   "metadata": {},
   "source": [
    "위와 똑같은 기능을 다음과 같이 파이썬스러운 방법으로 구현할 수 있다."
   ]
  },
  {
   "cell_type": "code",
   "execution_count": 22,
   "id": "10528c79",
   "metadata": {
    "ExecuteTime": {
     "end_time": "2023-01-04T06:11:47.090060Z",
     "start_time": "2023-01-04T06:11:47.072969Z"
    }
   },
   "outputs": [
    {
     "name": "stdout",
     "output_type": "stream",
     "text": [
      "./data/test.txt is opend\n"
     ]
    }
   ],
   "source": [
    "with open(filename) as fd:\n",
    "    process_file(fd)"
   ]
  },
  {
   "cell_type": "markdown",
   "id": "cc9cb5c0",
   "metadata": {},
   "source": [
    "- with 문(pep-343)은 컨텍스트 관리자로 진입하게 한다.\n",
    "- 이 경우 open 함수는 컨텍스트 관리자 프로토콜을 구현한다.\n",
    "- 예외가 발생한 경우에도 블록이 완료되면 파일을 자동으로 닫는다.\n",
    "\n",
    "\n",
    "- 컨텍스트 관리자는 \\_\\_enter\\_\\_, \\_\\_exit\\_\\_ 두개의 매직 메소드로 구성된다.\n",
    "- 첫번째 줄에서 with문은 \\_\\_enter\\_\\_ 메소드를 호출하고 이후 무엇을 반환하든 as 이후 지정된 변수에 할당된다.(fd)\n",
    "- 이후 마지막 문장이 끝나면 컨텍스트가 종료되며 파이썬이 호출한 원래 컨텍스트 관리자 객체의 \\_\\_exit\\_\\_ 메소드를 호출한다."
   ]
  },
  {
   "cell_type": "markdown",
   "id": "212cc67d",
   "metadata": {},
   "source": [
    "예를 들어 스크립트를 통해 DB 백업을 진행하는 경우를 생각해보자.\n",
    "\n",
    "주의사항은 다음과 같다.\n",
    "\n",
    "- 백업은 오프라인 상태에서 해야한다.\n",
    "- 백업이 끝나면 백업 프로세스가 성공적으로 진행되었는지 여부에 관계 없이 프로세스를 다시 시작해야 한다.\n",
    "\n",
    "ref : https://docs.python.org/3/reference/datamodel.html#object.__exit__"
   ]
  },
  {
   "cell_type": "code",
   "execution_count": 24,
   "id": "e0bf479c",
   "metadata": {
    "ExecuteTime": {
     "end_time": "2023-01-04T06:20:15.178794Z",
     "start_time": "2023-01-04T06:20:15.168790Z"
    }
   },
   "outputs": [],
   "source": [
    "def stop_database():\n",
    "    run(\"systemctl stop postgresql.service\")\n",
    "    \n",
    "def start_database():\n",
    "    run(\"systemctl start postgresql.service\")\n",
    "    \n",
    "class DBHandler:\n",
    "    def __enter__(self):\n",
    "        stop_database()\n",
    "        return self\n",
    "    \n",
    "    def __exit__(self, exc_type, ex_value, ex_traceback):\n",
    "        start_database()\n",
    "    \n",
    "    def db_backup():\n",
    "        run(\"pg_dump database\")\n",
    "        \n",
    "    # main 메소드에서 유지보수 작업과 상관없이 백업을 실행한다. 또한 백업에 오류가 있어도 __exit__를 호출한다.\n",
    "    # __exit__가 True를 반환하는 경우 잠재적으로 발생한 예외를 호출자에게 전달하지 않고 멈춘다는 것을 의미한다.\n",
    "    # 이 경우 \n",
    "    def main():\n",
    "        with DBHandler():\n",
    "            db_backupup()"
   ]
  },
  {
   "cell_type": "markdown",
   "id": "4f57cc5d",
   "metadata": {
    "ExecuteTime": {
     "end_time": "2023-01-04T06:29:22.676802Z",
     "start_time": "2023-01-04T06:29:22.661798Z"
    }
   },
   "source": [
    "# 프로퍼티, 속성(Attribute)과 객체 메소드의 다른 타입들\n",
    "\n",
    "- public/private/protected와 같은 접근 제어자를 가지는 다른 언어들과 다르게 파이썬은 객체의 모든 속성과 함수를 public으로 가져간다.\n",
    "- 즉 호출자가 객체의 속성을 호출하지 못하도록 할 방법이 없다.\n",
    "- 파이썬에는 변수명 지정과 관련한 몇 가지 네이밍 컨벤션이 있다.\n",
    "- **밑줄로 시작하는 속성은 private 속성을 의미하며 외부에서 호출되지 않기를 기대한다는 의미이다.**"
   ]
  },
  {
   "cell_type": "markdown",
   "id": "c2dcc451",
   "metadata": {},
   "source": [
    "## 단일 밑줄"
   ]
  },
  {
   "cell_type": "code",
   "execution_count": 36,
   "id": "a04aabe5",
   "metadata": {
    "ExecuteTime": {
     "end_time": "2023-01-04T06:36:14.971768Z",
     "start_time": "2023-01-04T06:36:14.957856Z"
    }
   },
   "outputs": [
    {
     "data": {
      "text/plain": [
       "Connector()"
      ]
     },
     "execution_count": 36,
     "metadata": {},
     "output_type": "execute_result"
    }
   ],
   "source": [
    "from dataclasses import dataclass\n",
    "\n",
    "@dataclass\n",
    "class Connector:\n",
    "    def __init__(self, source: str):\n",
    "        self.source = source\n",
    "        self._timeout = 60\n",
    "        \n",
    "conn = Connector(\"postgresql://localhost\")\n",
    "conn"
   ]
  },
  {
   "cell_type": "code",
   "execution_count": 37,
   "id": "44dd671b",
   "metadata": {
    "ExecuteTime": {
     "end_time": "2023-01-04T06:37:01.636168Z",
     "start_time": "2023-01-04T06:37:01.621169Z"
    }
   },
   "outputs": [
    {
     "data": {
      "text/plain": [
       "'postgresql://localhost'"
      ]
     },
     "execution_count": 37,
     "metadata": {},
     "output_type": "execute_result"
    }
   ],
   "source": [
    "conn.source"
   ]
  },
  {
   "cell_type": "code",
   "execution_count": 38,
   "id": "60df2ad5",
   "metadata": {
    "ExecuteTime": {
     "end_time": "2023-01-04T06:37:10.803570Z",
     "start_time": "2023-01-04T06:37:10.788570Z"
    }
   },
   "outputs": [
    {
     "data": {
      "text/plain": [
       "60"
      ]
     },
     "execution_count": 38,
     "metadata": {},
     "output_type": "execute_result"
    }
   ],
   "source": [
    "conn._timeout"
   ]
  },
  {
   "cell_type": "code",
   "execution_count": 39,
   "id": "0d4e3a52",
   "metadata": {
    "ExecuteTime": {
     "end_time": "2023-01-04T06:37:19.401704Z",
     "start_time": "2023-01-04T06:37:19.395704Z"
    }
   },
   "outputs": [
    {
     "data": {
      "text/plain": [
       "{'source': 'postgresql://localhost', '_timeout': 60}"
      ]
     },
     "execution_count": 39,
     "metadata": {},
     "output_type": "execute_result"
    }
   ],
   "source": [
    "conn.__dict__"
   ]
  },
  {
   "cell_type": "markdown",
   "id": "6709db9d",
   "metadata": {},
   "source": [
    "위 Connector 객체는 source 파라미터를 통해 생성되며 source, timeout 속성을 가진다.\n",
    "\n",
    "여기서 timeout의 경우는 private이지만 위 예시처럼 호출자가 접근 가능하다.\n",
    "\n",
    "위 코드에서 \\_timeout 속성은 connector 자체에서만 사용되고 호출자는 이 속성에 접근하지 말아야 한다.\n",
    "\n",
    "따라서 네이밍 룰이 제대로 지켜졌다면 호출자는 밑줄을 확인하고 외부에서 호출하지 않으며 안전하게 리팩토링을 진행할 수 있을 것이다."
   ]
  },
  {
   "cell_type": "markdown",
   "id": "f405334e",
   "metadata": {},
   "source": [
    "timeout 속성을 이중 밑줄로 정의한 경우"
   ]
  },
  {
   "cell_type": "markdown",
   "id": "6d5cb1f1",
   "metadata": {
    "ExecuteTime": {
     "end_time": "2023-01-04T06:47:55.460992Z",
     "start_time": "2023-01-04T06:47:55.452901Z"
    }
   },
   "source": [
    "## 이중 밑줄"
   ]
  },
  {
   "cell_type": "code",
   "execution_count": 46,
   "id": "75b6c6de",
   "metadata": {
    "ExecuteTime": {
     "end_time": "2023-01-04T06:44:42.035334Z",
     "start_time": "2023-01-04T06:44:42.024336Z"
    }
   },
   "outputs": [
    {
     "name": "stdout",
     "output_type": "stream",
     "text": [
      "connecting with 60s\n"
     ]
    },
    {
     "ename": "AttributeError",
     "evalue": "'Connector' object has no attribute '__timeout'",
     "output_type": "error",
     "traceback": [
      "\u001b[1;31m---------------------------------------------------------------------------\u001b[0m",
      "\u001b[1;31mAttributeError\u001b[0m                            Traceback (most recent call last)",
      "\u001b[1;32m~\\AppData\\Local\\Temp/ipykernel_22880/1753073717.py\u001b[0m in \u001b[0;36m<module>\u001b[1;34m\u001b[0m\n\u001b[0;32m     13\u001b[0m \u001b[0mconn\u001b[0m \u001b[1;33m=\u001b[0m \u001b[0mConnector\u001b[0m\u001b[1;33m(\u001b[0m\u001b[1;34m\"postgresql://localhost\"\u001b[0m\u001b[1;33m)\u001b[0m\u001b[1;33m\u001b[0m\u001b[1;33m\u001b[0m\u001b[0m\n\u001b[0;32m     14\u001b[0m \u001b[0mconn\u001b[0m\u001b[1;33m.\u001b[0m\u001b[0mconnect\u001b[0m\u001b[1;33m(\u001b[0m\u001b[1;33m)\u001b[0m\u001b[1;33m\u001b[0m\u001b[1;33m\u001b[0m\u001b[0m\n\u001b[1;32m---> 15\u001b[1;33m \u001b[0mconn\u001b[0m\u001b[1;33m.\u001b[0m\u001b[0m__timeout\u001b[0m\u001b[1;33m\u001b[0m\u001b[1;33m\u001b[0m\u001b[0m\n\u001b[0m",
      "\u001b[1;31mAttributeError\u001b[0m: 'Connector' object has no attribute '__timeout'"
     ]
    }
   ],
   "source": [
    "from dataclasses import dataclass\n",
    "\n",
    "@dataclass\n",
    "class Connector:\n",
    "    def __init__(self, source: str):\n",
    "        self.source = source\n",
    "        self.__timeout = 60\n",
    "        \n",
    "    def connect(self):\n",
    "        print(f\"connecting with {self.__timeout}s\")\n",
    "        return\n",
    "    \n",
    "conn = Connector(\"postgresql://localhost\")\n",
    "conn.connect()\n",
    "conn.__timeout"
   ]
  },
  {
   "cell_type": "markdown",
   "id": "35a22d07",
   "metadata": {},
   "source": [
    "밑줄 두개를 사용하면 파이썬은 다른 이름을 만드는 name mangling 이 발생한다.\n",
    "\n",
    "- \\_\\<class_name>\\_\\_\\<attribute_name> 형태로 변환됨"
   ]
  },
  {
   "cell_type": "code",
   "execution_count": 48,
   "id": "6953952a",
   "metadata": {
    "ExecuteTime": {
     "end_time": "2023-01-04T06:46:47.138403Z",
     "start_time": "2023-01-04T06:46:47.125402Z"
    }
   },
   "outputs": [
    {
     "data": {
      "text/plain": [
       "60"
      ]
     },
     "execution_count": 48,
     "metadata": {},
     "output_type": "execute_result"
    }
   ],
   "source": [
    "conn._Connector__timeout"
   ]
  },
  {
   "cell_type": "markdown",
   "id": "ff6a34c3",
   "metadata": {},
   "source": [
    "파이썬에서 이중 밑줄을 사용하는 것은 여러 번 확장되는 클래스의 메소드를 이름 충돌 없이 오버라디으 하기 위해 만들어졌다. 따라서 이중 밑줄을 사용하는 경우 위와 같은 상황을 주의해야 한다."
   ]
  },
  {
   "cell_type": "markdown",
   "id": "ef3c6883",
   "metadata": {},
   "source": [
    "## 프로퍼티"
   ]
  },
  {
   "cell_type": "markdown",
   "id": "d9592f58",
   "metadata": {},
   "source": [
    "- 일반적인 객체 지향 설계에서는 도메인 엔티티를 추상화하는 객체를 만든다.\n",
    "- 이러한 객체는 어떠한 동작이나 데이터를 캡슐화할 수 있다.\n",
    "- 데이터 정확성이 객체 생성 가능 여부를 결정해 데이터가 특정 값을 가질때만 객체를 생성할 수 있도록 설계할 수 있다.\n",
    "- 일반적으로 setter 작업에 사용되는 유효성 검사 메소드를 파이썬에서는 프로퍼티를 통해 setter/getter 메소드를 더 간결하게 캡슐화할 수 있다."
   ]
  },
  {
   "cell_type": "code",
   "execution_count": 72,
   "id": "6eede565",
   "metadata": {
    "ExecuteTime": {
     "end_time": "2023-01-04T07:07:19.497032Z",
     "start_time": "2023-01-04T07:07:19.491033Z"
    }
   },
   "outputs": [],
   "source": [
    "class Coordinate:\n",
    "    def __init__(self, lat: float, long: float) -> None:\n",
    "        self._latitude = self._longitude = None\n",
    "        self.latitude = lat\n",
    "        self.longitude = long\n",
    "        \n",
    "    @property\n",
    "    def latitude(self) -> float:\n",
    "        return self._latitude\n",
    "\n",
    "    @latitude.setter\n",
    "    def latitude(self, lat_value: float) -> None:\n",
    "        if lat_value not in range(-90, 90+1):\n",
    "            raise ValueError(f\"유효하지 않은 위도 값 : {lat_value}\")\n",
    "        self._latitude = lat_value\n",
    "        \n",
    "    @property\n",
    "    def longitude(self) -> float:\n",
    "        return self._longitude\n",
    "    \n",
    "    @longitude.setter\n",
    "    def longitude(self, long_value: float) -> None:\n",
    "        if long_value not in range(-180, 180+1):\n",
    "            raise ValueError(f\"유효하지 않은 경도 값 : {long_value}\")\n",
    "        self._longitude = long_value\n",
    "        "
   ]
  },
  {
   "cell_type": "code",
   "execution_count": 77,
   "id": "ed193494",
   "metadata": {
    "ExecuteTime": {
     "end_time": "2023-01-04T07:10:20.047481Z",
     "start_time": "2023-01-04T07:10:20.033481Z"
    }
   },
   "outputs": [
    {
     "data": {
      "text/plain": [
       "{'_latitude': 50, '_longitude': 150}"
      ]
     },
     "execution_count": 77,
     "metadata": {},
     "output_type": "execute_result"
    }
   ],
   "source": [
    "coor = Coordinate(50, 150)\n",
    "coor.__dict__"
   ]
  },
  {
   "cell_type": "code",
   "execution_count": 82,
   "id": "54fd836e",
   "metadata": {
    "ExecuteTime": {
     "end_time": "2023-01-04T07:11:47.107490Z",
     "start_time": "2023-01-04T07:11:47.094486Z"
    }
   },
   "outputs": [
    {
     "data": {
      "text/plain": [
       "{'_latitude': 25, '_longitude': 150}"
      ]
     },
     "execution_count": 82,
     "metadata": {},
     "output_type": "execute_result"
    }
   ],
   "source": [
    "# 클래스의 속성값을 다음과 같이 변경 가능하다\n",
    "# 유효성 검사 동일\n",
    "\n",
    "coor.latitude = 25\n",
    "coor.__dict__"
   ]
  },
  {
   "cell_type": "code",
   "execution_count": 88,
   "id": "bdb79766",
   "metadata": {
    "ExecuteTime": {
     "end_time": "2023-01-04T07:19:20.459387Z",
     "start_time": "2023-01-04T07:19:20.440379Z"
    }
   },
   "outputs": [],
   "source": [
    "class Person:\n",
    "    def __init__(self, name, age):\n",
    "        self._name = self._age = None\n",
    "        self.name = name\n",
    "        self.age = age\n",
    "        \n",
    "    @property\n",
    "    def age(self):\n",
    "        return self._age\n",
    "    \n",
    "    @property\n",
    "    def name(self):\n",
    "        return self._name\n",
    "    \n",
    "    @age.setter\n",
    "    def age(self, age_val):\n",
    "        if age_val > 100:\n",
    "            raise ValueError(\"ff\")\n",
    "        self._age = age_val\n",
    "        \n",
    "    @name.setter\n",
    "    def name(self, name_val):\n",
    "        self._name = name_val"
   ]
  },
  {
   "cell_type": "code",
   "execution_count": 91,
   "id": "996ee91d",
   "metadata": {
    "ExecuteTime": {
     "end_time": "2023-01-04T07:19:29.223902Z",
     "start_time": "2023-01-04T07:19:29.211917Z"
    }
   },
   "outputs": [
    {
     "ename": "ValueError",
     "evalue": "ff",
     "output_type": "error",
     "traceback": [
      "\u001b[1;31m---------------------------------------------------------------------------\u001b[0m",
      "\u001b[1;31mValueError\u001b[0m                                Traceback (most recent call last)",
      "\u001b[1;32m~\\AppData\\Local\\Temp/ipykernel_22880/3574057643.py\u001b[0m in \u001b[0;36m<module>\u001b[1;34m\u001b[0m\n\u001b[1;32m----> 1\u001b[1;33m \u001b[0mPerson\u001b[0m\u001b[1;33m(\u001b[0m\u001b[1;34m\"K\"\u001b[0m\u001b[1;33m,\u001b[0m \u001b[1;36m110\u001b[0m\u001b[1;33m)\u001b[0m\u001b[1;33m.\u001b[0m\u001b[0m__dict__\u001b[0m\u001b[1;33m\u001b[0m\u001b[1;33m\u001b[0m\u001b[0m\n\u001b[0m",
      "\u001b[1;32m~\\AppData\\Local\\Temp/ipykernel_22880/2252491500.py\u001b[0m in \u001b[0;36m__init__\u001b[1;34m(self, name, age)\u001b[0m\n\u001b[0;32m      3\u001b[0m         \u001b[0mself\u001b[0m\u001b[1;33m.\u001b[0m\u001b[0m_name\u001b[0m \u001b[1;33m=\u001b[0m \u001b[0mself\u001b[0m\u001b[1;33m.\u001b[0m\u001b[0m_age\u001b[0m \u001b[1;33m=\u001b[0m \u001b[1;32mNone\u001b[0m\u001b[1;33m\u001b[0m\u001b[1;33m\u001b[0m\u001b[0m\n\u001b[0;32m      4\u001b[0m         \u001b[0mself\u001b[0m\u001b[1;33m.\u001b[0m\u001b[0mname\u001b[0m \u001b[1;33m=\u001b[0m \u001b[0mname\u001b[0m\u001b[1;33m\u001b[0m\u001b[1;33m\u001b[0m\u001b[0m\n\u001b[1;32m----> 5\u001b[1;33m         \u001b[0mself\u001b[0m\u001b[1;33m.\u001b[0m\u001b[0mage\u001b[0m \u001b[1;33m=\u001b[0m \u001b[0mage\u001b[0m\u001b[1;33m\u001b[0m\u001b[1;33m\u001b[0m\u001b[0m\n\u001b[0m\u001b[0;32m      6\u001b[0m \u001b[1;33m\u001b[0m\u001b[0m\n\u001b[0;32m      7\u001b[0m     \u001b[1;33m@\u001b[0m\u001b[0mproperty\u001b[0m\u001b[1;33m\u001b[0m\u001b[1;33m\u001b[0m\u001b[0m\n",
      "\u001b[1;32m~\\AppData\\Local\\Temp/ipykernel_22880/2252491500.py\u001b[0m in \u001b[0;36mage\u001b[1;34m(self, age_val)\u001b[0m\n\u001b[0;32m     16\u001b[0m     \u001b[1;32mdef\u001b[0m \u001b[0mage\u001b[0m\u001b[1;33m(\u001b[0m\u001b[0mself\u001b[0m\u001b[1;33m,\u001b[0m \u001b[0mage_val\u001b[0m\u001b[1;33m)\u001b[0m\u001b[1;33m:\u001b[0m\u001b[1;33m\u001b[0m\u001b[1;33m\u001b[0m\u001b[0m\n\u001b[0;32m     17\u001b[0m         \u001b[1;32mif\u001b[0m \u001b[0mage_val\u001b[0m \u001b[1;33m>\u001b[0m \u001b[1;36m100\u001b[0m\u001b[1;33m:\u001b[0m\u001b[1;33m\u001b[0m\u001b[1;33m\u001b[0m\u001b[0m\n\u001b[1;32m---> 18\u001b[1;33m             \u001b[1;32mraise\u001b[0m \u001b[0mValueError\u001b[0m\u001b[1;33m(\u001b[0m\u001b[1;34m\"ff\"\u001b[0m\u001b[1;33m)\u001b[0m\u001b[1;33m\u001b[0m\u001b[1;33m\u001b[0m\u001b[0m\n\u001b[0m\u001b[0;32m     19\u001b[0m         \u001b[0mself\u001b[0m\u001b[1;33m.\u001b[0m\u001b[0m_age\u001b[0m \u001b[1;33m=\u001b[0m \u001b[0mage_val\u001b[0m\u001b[1;33m\u001b[0m\u001b[1;33m\u001b[0m\u001b[0m\n\u001b[0;32m     20\u001b[0m \u001b[1;33m\u001b[0m\u001b[0m\n",
      "\u001b[1;31mValueError\u001b[0m: ff"
     ]
    }
   ],
   "source": [
    "Person(\"K\", 110).__dict__"
   ]
  },
  {
   "cell_type": "code",
   "execution_count": null,
   "id": "b2f080e8",
   "metadata": {},
   "outputs": [],
   "source": []
  }
 ],
 "metadata": {
  "kernelspec": {
   "display_name": "Python 3 (ipykernel)",
   "language": "python",
   "name": "python3"
  },
  "language_info": {
   "codemirror_mode": {
    "name": "ipython",
    "version": 3
   },
   "file_extension": ".py",
   "mimetype": "text/x-python",
   "name": "python",
   "nbconvert_exporter": "python",
   "pygments_lexer": "ipython3",
   "version": "3.9.7"
  },
  "toc": {
   "base_numbering": 1,
   "nav_menu": {},
   "number_sections": true,
   "sideBar": true,
   "skip_h1_title": false,
   "title_cell": "Table of Contents",
   "title_sidebar": "Contents",
   "toc_cell": false,
   "toc_position": {},
   "toc_section_display": true,
   "toc_window_display": true
  }
 },
 "nbformat": 4,
 "nbformat_minor": 5
}
