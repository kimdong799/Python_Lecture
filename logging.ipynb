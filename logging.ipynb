{
 "cells": [
  {
   "cell_type": "code",
   "execution_count": 2,
   "id": "4f3c75ce",
   "metadata": {
    "ExecuteTime": {
     "end_time": "2023-01-04T08:56:58.531496Z",
     "start_time": "2023-01-04T08:56:58.521513Z"
    }
   },
   "outputs": [],
   "source": [
    "import logging\n",
    "\n",
    "# LOG LEVEL\n",
    "# DEBUG : 간단히 문제를 진단하고 싶을 때 필요한 자세한 정보를 기록함\n",
    "# INFO : 계획대로 작동하고 있음을 알리는 확인 메세지\n",
    "# WARNING : 소프트웨어가 작동은 하고 있지만 예상치 못한 일이 발생했거나 할 것으로 예측되는 것을 알림\n",
    "# ERROR : 중대한 문제로 인해 소프트웨어가 몇몇 기능들을 수행하지 못함을 알림\n",
    "# CRITICAL : 작동이 불가능한 수준의 심각한 에러가 발생함을 알림"
   ]
  },
  {
   "cell_type": "markdown",
   "id": "13f70702",
   "metadata": {},
   "source": [
    "logging 모듈 구성요소\n",
    "\n",
    "- Logger : 어플리케이션 코드가 직접 사용할 수 있는 인터페이스 제공\n",
    "- Handler : logger에 의해 만들어진 log 기록들을 적합한 위치로 보냄\n",
    "- Filter : 어떤 log 기록들이 출력되어야 하는지를 결정함\n",
    "- Formatter : log 기록들의 최종 출력본의 레이아웃을 결정함"
   ]
  },
  {
   "cell_type": "markdown",
   "id": "c7e3d868",
   "metadata": {},
   "source": [
    "1. Logger class의 Instance를 선언\n",
    "2. Logger는 name을 갖는데 name들은 마침표를 통해 계층적 관계를 형성\n",
    "    - Basket.html의 경우 Baket이라는 logger가 html이라는 logger의 부모 역할을 함\n",
    "3. Handler를 통해 log 기록들을 어디에 표시하고, 기록할지 결정\n",
    "4. Formatter는 실제 출력 형식을 결정"
   ]
  },
  {
   "cell_type": "markdown",
   "id": "5727f0ca",
   "metadata": {},
   "source": [
    "# Logger 생성"
   ]
  },
  {
   "cell_type": "code",
   "execution_count": 7,
   "id": "21cd3fc4",
   "metadata": {
    "ExecuteTime": {
     "end_time": "2023-01-04T09:02:21.743322Z",
     "start_time": "2023-01-04T09:02:21.727605Z"
    }
   },
   "outputs": [
    {
     "data": {
      "text/plain": [
       "<RootLogger root (WARNING)>"
      ]
     },
     "execution_count": 7,
     "metadata": {},
     "output_type": "execute_result"
    }
   ],
   "source": [
    "# logger 인스턴스 생성\n",
    "\n",
    "logging.getLogger()"
   ]
  },
  {
   "cell_type": "markdown",
   "id": "c79da780",
   "metadata": {},
   "source": [
    "- 디폴트는 RootLogger로 모든 logger의 부모와 같음\n",
    "- 기능과 목적에 따라 다른 logger를 생성하는 것이 바람직함"
   ]
  },
  {
   "cell_type": "code",
   "execution_count": 9,
   "id": "23b5c1d2",
   "metadata": {
    "ExecuteTime": {
     "end_time": "2023-01-04T09:02:54.245440Z",
     "start_time": "2023-01-04T09:02:54.214087Z"
    }
   },
   "outputs": [
    {
     "data": {
      "text/plain": [
       "<Logger name (WARNING)>"
      ]
     },
     "execution_count": 9,
     "metadata": {},
     "output_type": "execute_result"
    }
   ],
   "source": [
    "logger = logging.getLogger(\"name\")\n",
    "logger"
   ]
  },
  {
   "cell_type": "markdown",
   "id": "96a422ed",
   "metadata": {},
   "source": [
    "# Logger Level 부여"
   ]
  },
  {
   "cell_type": "code",
   "execution_count": null,
   "id": "9a2d9d47",
   "metadata": {},
   "outputs": [],
   "source": []
  }
 ],
 "metadata": {
  "kernelspec": {
   "display_name": "Python 3 (ipykernel)",
   "language": "python",
   "name": "python3"
  },
  "language_info": {
   "codemirror_mode": {
    "name": "ipython",
    "version": 3
   },
   "file_extension": ".py",
   "mimetype": "text/x-python",
   "name": "python",
   "nbconvert_exporter": "python",
   "pygments_lexer": "ipython3",
   "version": "3.9.7"
  },
  "toc": {
   "base_numbering": 1,
   "nav_menu": {},
   "number_sections": true,
   "sideBar": true,
   "skip_h1_title": false,
   "title_cell": "Table of Contents",
   "title_sidebar": "Contents",
   "toc_cell": false,
   "toc_position": {},
   "toc_section_display": true,
   "toc_window_display": false
  }
 },
 "nbformat": 4,
 "nbformat_minor": 5
}
