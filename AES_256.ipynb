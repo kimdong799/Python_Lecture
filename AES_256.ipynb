{
  "nbformat": 4,
  "nbformat_minor": 0,
  "metadata": {
    "colab": {
      "provenance": [],
      "toc_visible": true
    },
    "kernelspec": {
      "name": "python3",
      "display_name": "Python 3"
    },
    "language_info": {
      "name": "python"
    }
  },
  "cells": [
    {
      "cell_type": "markdown",
      "source": [
        "# AES 256 Encrypt & Decrypt\n",
        "\n",
        "\n",
        "## AES의 특징\n",
        " - 입력 평문의 길이는 128 바이트로 고정\n",
        " - AES의 기본 연산은 Byte 단위로 수행\n",
        " - 사용하는 암호화 키의 길이는 128, 192, 256 중 선택 가능\n",
        " - Rigindel 알고리즘은 키의 길이와 입력 평문의 길이를 128, 192, 256 비트 중 선택 가능\n"
      ],
      "metadata": {
        "id": "yhAytiB-5VzP"
      }
    },
    {
      "cell_type": "code",
      "source": [
        "pip install pycrypto"
      ],
      "metadata": {
        "colab": {
          "base_uri": "https://localhost:8080/"
        },
        "id": "lpic9Yni5fdF",
        "outputId": "1c14dbca-43fd-400d-f8e4-92a1d3116f3e"
      },
      "execution_count": 2,
      "outputs": [
        {
          "output_type": "stream",
          "name": "stdout",
          "text": [
            "Looking in indexes: https://pypi.org/simple, https://us-python.pkg.dev/colab-wheels/public/simple/\n",
            "Collecting pycrypto\n",
            "  Downloading pycrypto-2.6.1.tar.gz (446 kB)\n",
            "\u001b[K     |████████████████████████████████| 446 kB 5.0 MB/s \n",
            "\u001b[?25hBuilding wheels for collected packages: pycrypto\n",
            "  Building wheel for pycrypto (setup.py) ... \u001b[?25l\u001b[?25hdone\n",
            "  Created wheel for pycrypto: filename=pycrypto-2.6.1-cp37-cp37m-linux_x86_64.whl size=499932 sha256=52a8d9a6cd481c850f4e065aac737875ab32ae280fde561f836a7bcd3c8e9551\n",
            "  Stored in directory: /root/.cache/pip/wheels/cf/85/ba/bbd7c96add459de7598fb424e5ff2309baf2095c844ac0f191\n",
            "Successfully built pycrypto\n",
            "Installing collected packages: pycrypto\n",
            "Successfully installed pycrypto-2.6.1\n"
          ]
        }
      ]
    },
    {
      "cell_type": "markdown",
      "source": [
        "# Padding For BlockSize\n",
        "\n",
        "암호화를 진행하고자 하는 String 데이터의 기이가 Block Size의 배수가 아닐 때 Padding이 필요하다. AES는 128 bit 즉, 16 Byte로 고정되는데, 다음의 코드로 Padding 처리한다. \n",
        "\n",
        "한글의 경우 len(s.encode('utf-8')) 처리가 필요하다.\n",
        "\n",
        "영문과 기호는 문자당 1 Byte이지만 한글은 2 Byte이기때문이다."
      ],
      "metadata": {
        "id": "WhsfsVN67k2u"
      }
    },
    {
      "cell_type": "code",
      "source": [
        "BlockSize = 16 # Init BlockSize (16 Byte)\n",
        "pad = lambda s:s + (BlockSize - len(s.encode('utf-8')) % BlockSize) * chr(BlockSize - len(s.encode('utf-8')) % BlockSize)\n",
        "unpad = lambda s:s[:-ord(s[len(s)-1:])]"
      ],
      "metadata": {
        "id": "rMJlBKYh5akM"
      },
      "execution_count": 7,
      "outputs": []
    },
    {
      "cell_type": "markdown",
      "source": [
        "# AESCipher Class"
      ],
      "metadata": {
        "id": "XD2F58h18pZB"
      }
    },
    {
      "cell_type": "code",
      "source": [
        "# AES 256 encryption/decryption using pycrypto library\n",
        " \n",
        "import base64\n",
        "import hashlib\n",
        "from Crypto.Cipher import AES\n",
        "from Crypto import Random\n",
        "import time\n",
        "\n",
        "BLOCK_SIZE = 16\n",
        "pad = lambda s: s + (BLOCK_SIZE - len(s) % BLOCK_SIZE) * chr(BLOCK_SIZE - len(s) % BLOCK_SIZE)\n",
        "unpad = lambda s: s[:-ord(s[len(s) - 1:])]\n",
        " \n",
        "key = str(int(time.time()))\n",
        " \n",
        " \n",
        "class AESCipher:\n",
        "  def __init__(self, key):\n",
        "    self.key = key\n",
        "\n",
        "  def encrypt(raw, key):\n",
        "    private_key = hashlib.sha256(key.encode(\"utf-8\")).digest()\n",
        "    raw = pad(raw)\n",
        "    iv = Random.new().read(AES.block_size)\n",
        "    cipher = AES.new(private_key, AES.MODE_CBC, iv)\n",
        "    return base64.b64encode(iv + cipher.encrypt(raw))\n",
        " \n",
        " \n",
        "  def decrypt(enc, key):\n",
        "    private_key = hashlib.sha256(key.encode(\"utf-8\")).digest()\n",
        "    enc = base64.b64decode(enc)\n",
        "    iv = enc[:16]\n",
        "    cipher = AES.new(private_key, AES.MODE_CBC, iv)\n",
        "    return unpad(cipher.decrypt(enc[16:]))"
      ],
      "metadata": {
        "id": "_6VStRMMBijE"
      },
      "execution_count": 167,
      "outputs": []
    },
    {
      "cell_type": "code",
      "source": [
        "plaintext = \"Lorem Ipsum is simply dummy text of the printing and typesetting industry. Lorem Ipsum has been the industry's standard dummy text ever since the 1500s, when an unknown printer took a galley of type and scrambled it to make a type specimen book. It has survived not only five centuries, but also the leap into electronic typesetting, remaining essentially unchanged. It was popularised in the 1960s with the release of Letraset sheets containing Lorem Ipsum passages, and more recently with desktop publishing software like Aldus PageMaker including versions of Lorem Ipsum.\""
      ],
      "metadata": {
        "id": "UhaMLhpqGuHW"
      },
      "execution_count": 175,
      "outputs": []
    },
    {
      "cell_type": "code",
      "source": [
        "# First let us encrypt secret message\n",
        "encrypted = AESCipher.encrypt(plaintext, key)\n",
        "print(encrypted)\n",
        " \n",
        "# Let us decrypt using our original password\n",
        "decrypted = AESCipher.decrypt(encrypted, key)\n",
        "print(bytes.decode(decrypted))"
      ],
      "metadata": {
        "colab": {
          "base_uri": "https://localhost:8080/"
        },
        "id": "lDg2SDtWGphc",
        "outputId": "f3277a0c-575d-49e1-dd38-a264502d26b9"
      },
      "execution_count": 177,
      "outputs": [
        {
          "output_type": "stream",
          "name": "stdout",
          "text": [
            "b'HzbvfRA3aF0EQ4XQaqCxNAq3XXDqjS63LQ1Fwr0KeDy2JGzgx4KT//unrI+2nD5BAQbC7vZQExs2R4hYnnIutilsnQa7Sl+fJzi1X16WSmbuHsNp05WTQv5rH+6MU9lp/Q+uYLsw3AKa0CpTyWrRgUxXRptD9C8VF/9ZUWYO1N27NPp7BDAb48ODTglkpEjZkMvQ8OBEKCpRZ0XDNvgJFrdIAN0Z2ABcqFpWugcg+KcOCY574roUSDxGddsMUnAcwieDBMTC/KNXLwlLks1DpRLFx+bd5GzuV3GdUHFg77Qtq1atix5OzDt8+mt22SWYR1+3MHyhAi8wGEYfF4jSNiMIyLgoAikqyGERaaQ/tU05MigJ0eSE5IWCJW1NBPZB6lQeaLrWPd2EspzwbH+k9iItjBxeO55AaibVIw+otmemgPz4HEVuNA2ORyZUB2cPQqJei4EVnUj+tidgsqaJ1eAdWhEM0v7Jqgxd2l01a7szx/+XIwTOugxOH9P9Tq3N48uUgjZNDKpRjil5sGYh+RanPCPuGxhFailVPld/AjxJxH1iyg9VD32j7f13w8zCqlaA4n/8d1CL2CkwEm4A8kD5s6B4ZykzMfZywxUw/lW6ZP3ajsNzyCb1upIrYBwCjV4R6+Ea1mao5UxQQOPi1dplz4/jdebMyUjazFkZXYmDylwbQ7aCxMCn94NAiG2dTRiBKhYvefy9rmf2TDTmesdj+l2ZSr9HdaWHoPfK5y/u3uf79Yx/KU0TEN3R5EiDEyQ6OMx44aoi7yT8joYWxg=='\n",
            "Lorem Ipsum is simply dummy text of the printing and typesetting industry. Lorem Ipsum has been the industry's standard dummy text ever since the 1500s, when an unknown printer took a galley of type and scrambled it to make a type specimen book. It has survived not only five centuries, but also the leap into electronic typesetting, remaining essentially unchanged. It was popularised in the 1960s with the release of Letraset sheets containing Lorem Ipsum passages, and more recently with desktop publishing software like Aldus PageMaker including versions of Lorem Ipsum.\n"
          ]
        }
      ]
    },
    {
      "cell_type": "code",
      "source": [],
      "metadata": {
        "id": "bwrz3MXcIDC3"
      },
      "execution_count": null,
      "outputs": []
    }
  ]
}