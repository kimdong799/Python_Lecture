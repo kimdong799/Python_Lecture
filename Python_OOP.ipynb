{
  "nbformat": 4,
  "nbformat_minor": 0,
  "metadata": {
    "colab": {
      "provenance": []
    },
    "kernelspec": {
      "name": "python3",
      "display_name": "Python 3"
    },
    "language_info": {
      "name": "python"
    }
  },
  "cells": [
    {
      "cell_type": "code",
      "source": [
        "!pip install mypy"
      ],
      "metadata": {
        "colab": {
          "base_uri": "https://localhost:8080/"
        },
        "id": "agY0QhbNfGsU",
        "outputId": "2dce0101-9824-4ff7-f76b-758ffd8963c1"
      },
      "execution_count": 30,
      "outputs": [
        {
          "output_type": "stream",
          "name": "stdout",
          "text": [
            "Looking in indexes: https://pypi.org/simple, https://us-python.pkg.dev/colab-wheels/public/simple/\n",
            "Collecting mypy\n",
            "  Downloading mypy-0.991-cp38-cp38-manylinux_2_17_x86_64.manylinux2014_x86_64.whl (17.9 MB)\n",
            "\u001b[K     |████████████████████████████████| 17.9 MB 5.1 MB/s \n",
            "\u001b[?25hCollecting mypy-extensions>=0.4.3\n",
            "  Downloading mypy_extensions-0.4.3-py2.py3-none-any.whl (4.5 kB)\n",
            "Requirement already satisfied: tomli>=1.1.0 in /usr/local/lib/python3.8/dist-packages (from mypy) (2.0.1)\n",
            "Requirement already satisfied: typing-extensions>=3.10 in /usr/local/lib/python3.8/dist-packages (from mypy) (4.4.0)\n",
            "Installing collected packages: mypy-extensions, mypy\n",
            "Successfully installed mypy-0.991 mypy-extensions-0.4.3\n"
          ]
        }
      ]
    },
    {
      "cell_type": "code",
      "source": [
        "import mypy"
      ],
      "metadata": {
        "id": "fAiib9IxfJvR"
      },
      "execution_count": 31,
      "outputs": []
    },
    {
      "cell_type": "code",
      "execution_count": 9,
      "metadata": {
        "colab": {
          "base_uri": "https://localhost:8080/"
        },
        "id": "oNQaMYlYVTRR",
        "outputId": "3ae88c9b-1d7c-4219-9b07-0ffcf3c06302"
      },
      "outputs": [
        {
          "output_type": "stream",
          "name": "stdout",
          "text": [
            "<class 'str'>\n",
            "<class 'int'>\n",
            "<class 'int'>\n",
            "<class 'int'>\n"
          ]
        }
      ],
      "source": [
        "# Why Object Oriented Programming?\n",
        "# 매장 관리 시스템 개발 중 제품 추적 모듈을 개발한다고 가정.\n",
        "# Python 3.6 버전부터 각 변수에 데이터 타입을 지정할 수 있다.\n",
        "\n",
        "item1 : str = 'Phone'\n",
        "item1_price : int = 100\n",
        "item1_quantity : int = 5\n",
        "item1_price_total : int = item1_price * item1_quantity\n",
        "\n",
        "print(type(item1))\n",
        "print(type(item1_price))\n",
        "print(type(item1_quantity))\n",
        "print(type(item1_price_total))"
      ]
    },
    {
      "cell_type": "markdown",
      "source": [
        "# How to Create Class"
      ],
      "metadata": {
        "id": "h6LxPcFghPeV"
      }
    },
    {
      "cell_type": "code",
      "source": [
        "class Item:\n",
        "  pass\n",
        "\n",
        "item1 = Item()\n",
        "item1.name : str = 'Phone'\n",
        "item1.price : int = 100\n",
        "item1.quantity : int = 5\n",
        "item1.price_total : int = item1.price * item1.quantity\n",
        "\n",
        "print(type(item1))\n",
        "print(type(item1.name))\n",
        "print(type(item1.price))\n",
        "print(type(item1.quantity))\n",
        "print(type(item1.price_total))"
      ],
      "metadata": {
        "colab": {
          "base_uri": "https://localhost:8080/"
        },
        "id": "KT7EMrzVWmJe",
        "outputId": "d33c3456-a115-46e6-f562-b7c0c1753acf"
      },
      "execution_count": 10,
      "outputs": [
        {
          "output_type": "stream",
          "name": "stdout",
          "text": [
            "<class '__main__.Item'>\n",
            "<class 'str'>\n",
            "<class 'int'>\n",
            "<class 'int'>\n",
            "<class 'int'>\n"
          ]
        }
      ]
    },
    {
      "cell_type": "markdown",
      "source": [
        "# How to Create Method"
      ],
      "metadata": {
        "id": "uz3xD5eehLdw"
      }
    },
    {
      "cell_type": "code",
      "source": [
        "class Item:\n",
        "  def calculate_total_price(self, price, quantity):\n",
        "    total_price = price * quantity\n",
        "    return total_price\n",
        "\n",
        "  def print_item_info(self):\n",
        "    print(f\"name : {self.name} / price : {self.price} / quantity : {self.quantity} / price_total : {self.price_total}\")\n",
        "    return\n",
        "\n",
        "item1 = Item()\n",
        "item1.name : str = 'Phone'\n",
        "item1.price : int = 100\n",
        "item1.quantity : int = 5\n",
        "item1.price_total = item1.calculate_total_price(item1.price, item1.quantity)\n",
        "\n",
        "item1.print_item_info()\n",
        "\n",
        "item2 = Item()\n",
        "item2.name : str = 'Laptop'\n",
        "item2.price : int = 200\n",
        "item2.quantity : int = 10\n",
        "item2.price_total = item2.calculate_total_price(item2.price, item2.quantity) \n",
        "\n",
        "item2.print_item_info()"
      ],
      "metadata": {
        "colab": {
          "base_uri": "https://localhost:8080/"
        },
        "id": "h-Q2Bmg5YN--",
        "outputId": "1a3fe489-ac49-4947-b1c4-9a7ddff3cac1"
      },
      "execution_count": 19,
      "outputs": [
        {
          "output_type": "stream",
          "name": "stdout",
          "text": [
            "name : Phone / price : 100 / quantity : 5 / price_total : 500\n",
            "name : Laptop / price : 200 / quantity : 10 / price_total : 2000\n"
          ]
        }
      ]
    },
    {
      "cell_type": "markdown",
      "source": [
        "# What is \\_\\_init__ Method\n",
        "## Raise assert info error"
      ],
      "metadata": {
        "id": "01uDuKS2hDvE"
      }
    },
    {
      "cell_type": "code",
      "source": [
        "class Item:\n",
        "  def __init__(self, name:str, price:int, quantity:int=0): # Set Default Value\n",
        "    # Run Validation to the Received arguments\n",
        "    assert price >= 0, f'price {price} is not greater than zero. please check arguments of Item class generator'\n",
        "    assert quantity >= 0, f'quantity {quantity} is not greater than zero. please check arguments of Item class generator'\n",
        "\n",
        "    # Assign to self Object\n",
        "    self.name = name\n",
        "    self.price = price\n",
        "    self.quantity  = quantity\n",
        "    print(f\"{self.name} Instance is created.\")\n",
        "    return\n",
        "\n",
        "  def calculate_total_price(self, price:int, quantity:int) -> int: # Set Data Type of result\n",
        "    total_price = price * quantity\n",
        "    return total_price\n",
        "\n",
        "  def print_item_info(self):\n",
        "    print(f\"name : {self.name} / price : {self.price} / quantity : {self.quantity} / price_total : {self.price_total}\")\n",
        "    return\n",
        "\n",
        "item1 = Item('Phone', 100, 10)\n",
        "item1.price_total = item1.calculate_total_price(item1.price, item1.quantity)\n",
        "\n",
        "item1.print_item_info()"
      ],
      "metadata": {
        "colab": {
          "base_uri": "https://localhost:8080/"
        },
        "id": "F2b7rKsxau9P",
        "outputId": "fd662571-5ce8-4711-b48f-14ffb07fc2f7"
      },
      "execution_count": 43,
      "outputs": [
        {
          "output_type": "stream",
          "name": "stdout",
          "text": [
            "Phone Instance is created.\n",
            "name : Phone / price : 100 / quantity : 10 / price_total : 1000\n"
          ]
        }
      ]
    },
    {
      "cell_type": "code",
      "source": [],
      "metadata": {
        "colab": {
          "base_uri": "https://localhost:8080/"
        },
        "id": "TxcA1Vzvda1o",
        "outputId": "ef0f958f-b88a-40e9-f619-b36af5ce1ec5"
      },
      "execution_count": 35,
      "outputs": [
        {
          "output_type": "stream",
          "name": "stdout",
          "text": [
            "Phone Instance is created.\n",
            "name : Phone / price : 100 / quantity : 5 / price_total : 500\n"
          ]
        }
      ]
    },
    {
      "cell_type": "code",
      "source": [],
      "metadata": {
        "id": "tn3nSrjpd16C"
      },
      "execution_count": null,
      "outputs": []
    }
  ]
}