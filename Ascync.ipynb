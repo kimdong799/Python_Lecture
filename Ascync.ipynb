{
  "nbformat": 4,
  "nbformat_minor": 0,
  "metadata": {
    "colab": {
      "provenance": []
    },
    "kernelspec": {
      "name": "python3",
      "display_name": "Python 3"
    },
    "language_info": {
      "name": "python"
    }
  },
  "cells": [
    {
      "cell_type": "code",
      "source": [
        "!pip install nest_asyncio"
      ],
      "metadata": {
        "colab": {
          "base_uri": "https://localhost:8080/"
        },
        "id": "OdyJLqcVLEmp",
        "outputId": "9064c099-7002-42db-d86f-70d46d364983"
      },
      "execution_count": 2,
      "outputs": [
        {
          "output_type": "stream",
          "name": "stdout",
          "text": [
            "Looking in indexes: https://pypi.org/simple, https://us-python.pkg.dev/colab-wheels/public/simple/\n",
            "Collecting nest_asyncio\n",
            "  Downloading nest_asyncio-1.5.6-py3-none-any.whl (5.2 kB)\n",
            "Installing collected packages: nest-asyncio\n",
            "Successfully installed nest-asyncio-1.5.6\n"
          ]
        }
      ]
    },
    {
      "cell_type": "code",
      "execution_count": 3,
      "metadata": {
        "id": "qyu58Ub9NxDt"
      },
      "outputs": [],
      "source": [
        "# Import Module\n",
        "\n",
        "import requests\n",
        "import nest_asyncio\n",
        "import asyncio\n",
        "from bs4 import BeautifulSoup\n",
        "import time\n",
        "import re\n",
        "from tqdm import tqdm"
      ]
    },
    {
      "cell_type": "markdown",
      "source": [
        "# Synchronous Programming"
      ],
      "metadata": {
        "id": "aYm5DirxL-HM"
      }
    },
    {
      "cell_type": "code",
      "source": [
        "results = []\n",
        "s = time.time()\n",
        "\n",
        "for page in tqdm(range(1,10)):\n",
        "    url = f'https://movie.naver.com/movie/point/af/list.naver?&page={page}'\n",
        "    #get : request로 url의  html문서의 내용 요청\n",
        "    html = requests.get(url)\n",
        "    #html을 받아온 문서를 .content로 지정 후 soup객체로 변환\n",
        "    soup = BeautifulSoup(html.content,'html.parser')\n",
        "    #find_all : 지정한 태그의 내용을 모두 찾아 리스트로 반환\n",
        "    reviews = soup.find_all(\"td\",{\"class\":\"title\"})\n",
        "    results.append(reviews)\n",
        "\n",
        "e = time.time()\n",
        "print(\"{0:.2f}초 걸렸습니다\".format(e - s))"
      ],
      "metadata": {
        "colab": {
          "base_uri": "https://localhost:8080/"
        },
        "id": "FAm_kz5nQ_9z",
        "outputId": "57409169-ebf3-4c96-df8d-b593970da576"
      },
      "execution_count": 7,
      "outputs": [
        {
          "output_type": "stream",
          "name": "stderr",
          "text": [
            "100%|██████████| 9/9 [00:07<00:00,  1.14it/s]"
          ]
        },
        {
          "output_type": "stream",
          "name": "stdout",
          "text": [
            "7.90초 걸렸습니다\n"
          ]
        },
        {
          "output_type": "stream",
          "name": "stderr",
          "text": [
            "\n"
          ]
        }
      ]
    },
    {
      "cell_type": "markdown",
      "source": [
        "# Asynchronous Programming"
      ],
      "metadata": {
        "id": "so4oD2J2LwaY"
      }
    },
    {
      "cell_type": "code",
      "source": [
        "s = time.time()\n",
        "results = []\n",
        "urls = [f'https://movie.naver.com/movie/point/af/list.naver?&page={page}' for page in range(1, 10)]\n",
        "\n",
        "nest_asyncio.apply()\n",
        "\n",
        "#---------------------- A 파트 ------------------------\n",
        "async def getpage(url):\n",
        "    req = await loop.run_in_executor(None, requests.get, url)\n",
        "    html = req.text\n",
        "    soup = await loop.run_in_executor(None, BeautifulSoup, html, 'html.parser')\n",
        "    reviews = soup.find_all(\"td\",{\"class\":\"title\"})\n",
        "    results.append(reviews)\n",
        "    return\n",
        "\n",
        "#---------------------- B 파트 ------------------------ \n",
        "async def main():\n",
        "    fts = [asyncio.ensure_future(getpage(u)) for u in urls]\n",
        "    r = await asyncio.gather(*fts)\n",
        "    global results\n",
        "    results = r\n",
        "\n",
        "#---------------------- C 파트 ------------------------\n",
        "loop = asyncio.get_event_loop()\n",
        "loop.run_until_complete(main())\n",
        "loop.close\n",
        "e = time.time()\n",
        "\n",
        "print(\"{0:.2f}초 걸렸습니다\".format(e - s))"
      ],
      "metadata": {
        "colab": {
          "base_uri": "https://localhost:8080/"
        },
        "id": "B9i94NzbT58M",
        "outputId": "2e1dd8e0-7b13-488c-8b25-688b456d829f"
      },
      "execution_count": 9,
      "outputs": [
        {
          "output_type": "stream",
          "name": "stdout",
          "text": [
            "1.82초 걸렸습니다\n"
          ]
        }
      ]
    },
    {
      "cell_type": "markdown",
      "source": [
        "- Asynchronous Programming\n",
        "  - 일반적인 코드의 경우 IO 사이의 대기시간이 존재한다. \n",
        "  - 비동기식 프로그래밍의 경우 이 대기시간을 멀티태스킹으로 처리하여 불필요한 대기시간을 줄일 수 있다.\n",
        "  - 이를 가능하게 해주는 함수를 코루틴(Coroutine)이라 한다.\n",
        "  - 위 경우처럼 여러 웹페이지를 불러올 때 비동기식으로 코드를 작성하는 경우 여러 페이지를 로딩될 때까지 기다리지 않고 바로 다음 웹페이지를 불러오며 매우 빠른 속도로 모든 웹페이지를 불러올 수 있다."
      ],
      "metadata": {
        "id": "0yE-iEMwMT6g"
      }
    },
    {
      "cell_type": "markdown",
      "source": [
        "# Detail of C Part"
      ],
      "metadata": {
        "id": "h32SeQu-NcJN"
      }
    },
    {
      "cell_type": "markdown",
      "source": [
        "- C Part는 위 코드에서 가장 먼저 실행되는 파트이다.\n",
        "- 비동기식 코드는 대기시간이 없도록 main() 함수(코루틴)가 종료될 때까지 루프를 만들어줘야한다.\n"
      ],
      "metadata": {
        "id": "8K0sKoczNlJT"
      }
    },
    {
      "cell_type": "code",
      "source": [
        "#---------------------- C 파트 ------------------------\n",
        "loop = asyncio.get_event_loop() # 루프 생성\n",
        "loop.run_until_complete(main()) # main() 코루틴 종료시점을 루프 종료시점으로 지정\n",
        "loop.close # 루프 종료"
      ],
      "metadata": {
        "colab": {
          "base_uri": "https://localhost:8080/"
        },
        "id": "GqtoLQIwLphW",
        "outputId": "8cc9f4f9-e7a2-4f33-e432-26229f43084f"
      },
      "execution_count": 10,
      "outputs": [
        {
          "output_type": "execute_result",
          "data": {
            "text/plain": [
              "<bound method _UnixSelectorEventLoop.close of <_UnixSelectorEventLoop running=True closed=False debug=False>>"
            ]
          },
          "metadata": {},
          "execution_count": 10
        }
      ]
    },
    {
      "cell_type": "markdown",
      "source": [
        "# Detail Of B Part"
      ],
      "metadata": {
        "id": "Ivb_WpRVOWXA"
      }
    },
    {
      "cell_type": "markdown",
      "source": [
        "- Python을 통해 코루틴을 작성하기 위해서 def 구문 앞에 async 구문을 붙여줘야한다.\n",
        "- fts 변수는 데이터 크롤링을 위한 url 주소값으로 future 객체로 만들어줘야한다.\n",
        "- future 객체는 코루틴에 의해 실행되는 계획서이다.\n",
        "- await asyncio.gather(*fts) 구문을 통해 계획서를 실질적으로 실행한다.\n",
        " - *는 리스트를 해체해서 fts 변수의 값을 전달하는 역할을 한다."
      ],
      "metadata": {
        "id": "ys7e8JdGOZXa"
      }
    },
    {
      "cell_type": "code",
      "source": [
        "#---------------------- B 파트 ------------------------ \n",
        "async def main():\n",
        "    fts = [asyncio.ensure_future(getpage(u)) for u in urls]\n",
        "    r = await asyncio.gather(*fts)\n",
        "    global results\n",
        "    results = r"
      ],
      "metadata": {
        "id": "BlzzfUH-OPhJ"
      },
      "execution_count": null,
      "outputs": []
    },
    {
      "cell_type": "markdown",
      "source": [
        "# Detail Of A Part"
      ],
      "metadata": {
        "id": "IwT3wqP7Pqsr"
      }
    },
    {
      "cell_type": "markdown",
      "source": [
        "- A Part는 Main 코루틴이다.\n",
        "- await은 코루틴을 실행하는 예약어로 이를 이용해야 다른 코루틴을 실행할 수 있다.\n",
        "- loop.run_in_executor()는 실행한 코루틴이 된다.\n",
        "- Python의 모든 함수가 비동기식으로 만들어지지 않아 지원 가능한 함수만 코루틴으로써 실행할수 있다. 이 때 loop.run_in_executor() 코루틴을 사용하면 일반 함수를 코루틴과 동일하게 사용 가능하다."
      ],
      "metadata": {
        "id": "X_7UhbmcPvgy"
      }
    },
    {
      "cell_type": "code",
      "source": [
        "async def getpage(url):\n",
        "    req = await loop.run_in_executor(None, requests.get, url)\n",
        "    html = req.text\n",
        "    soup = await loop.run_in_executor(None, BeautifulSoup, html, 'html.parser')\n",
        "    reviews = soup.find_all(\"td\",{\"class\":\"title\"})\n",
        "    results.append(reviews)\n",
        "    return"
      ],
      "metadata": {
        "id": "SN0K-8lTPum6"
      },
      "execution_count": null,
      "outputs": []
    }
  ]
}