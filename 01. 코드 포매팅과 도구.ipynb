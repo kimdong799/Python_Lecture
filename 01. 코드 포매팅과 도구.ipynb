{
 "cells": [
  {
   "cell_type": "markdown",
   "id": "b6667099",
   "metadata": {},
   "source": [
    "예제 코드 : https://github.com/PacktPublishing/Clean-Code-in-Python-Second-Edition\n",
    "\n",
    "컬러 이미지 다운로드 : https://static.packt-cdn.com/downloads/9781800560215_ColorImages.pdf\n",
    "\n",
    "PEP 8 : https://peps.python.org/pep-0008/#overriding-principle"
   ]
  },
  {
   "cell_type": "markdown",
   "id": "04a2e18b",
   "metadata": {},
   "source": [
    "# 클린 코드의 의미\n",
    "\n",
    "- 프로그래밍이란 아이디어를 다른 개발자에게 전달하는 것\n",
    "- 클린코드의 판단은 다른 사람이 코드를 읽고 유지보수 가능한지 여부에 따라 결정"
   ]
  },
  {
   "cell_type": "markdown",
   "id": "4767af94",
   "metadata": {},
   "source": [
    "# 클린 코드의 중요성\n",
    "\n",
    "- 유지보수성 향상, 기술 부채의 감소, 애자일 개발을 통한 효과적인 작업 진행, 성공적인 프로젝트 관리로 이어짐\n",
    "- 기술부채\n",
    "    - 나쁜 결정, 적당한 타협의 결과로 생긴 소프트웨어적 결함\n",
    "    - 현재 -> 과거 : 현재 직면한 문제가 과거의 코드로 인해 발생했는가?\n",
    "    - 현재 -> 미래 : 현재의 문제를 적절하게 해결하기 위해 시간을 투자하지 않고 지름길로 가기로 한다면 미래에 문제가 생길 위험은 없는가?\n",
    "    - 기술부채는 이자를 유발해 추후 코드 수정은 더 큰 비용을 불러일으킴\n",
    "- 소프트웨어는 쉽게 변경 가능한 수준을 유지할 때 의미가 있다"
   ]
  },
  {
   "cell_type": "markdown",
   "id": "d09219c0",
   "metadata": {},
   "source": [
    "# 문서화(Documentation)\n",
    "\n",
    "- 주석 추가와 문서화는 다름\n",
    "- 코드 문서화는 Python에서 중요한 부분이다.\n",
    "    - 변수의 타입이 동적이기에 변수나 객체의 값이 무엇인지 잃어버리기 쉽기 때문이다.\n",
    "- 어노테이션을 사용하는 이유\n",
    "    - mypy, pytype과 같은 도구를 사용해 변수 타입 힌트와 같은 자동화에 도움을 주기 때문이다."
   ]
  },
  {
   "cell_type": "code",
   "execution_count": 7,
   "id": "d63ef94d",
   "metadata": {
    "ExecuteTime": {
     "end_time": "2023-01-04T01:05:31.919348Z",
     "start_time": "2023-01-04T01:05:31.887653Z"
    }
   },
   "outputs": [
    {
     "ename": "TypeError",
     "evalue": "can't multiply sequence by non-int of type 'str'",
     "output_type": "error",
     "traceback": [
      "\u001b[1;31m---------------------------------------------------------------------------\u001b[0m",
      "\u001b[1;31mTypeError\u001b[0m                                 Traceback (most recent call last)",
      "\u001b[1;32m~\\AppData\\Local\\Temp/ipykernel_2460/3865026481.py\u001b[0m in \u001b[0;36m<module>\u001b[1;34m\u001b[0m\n\u001b[0;32m      4\u001b[0m     \u001b[1;32mreturn\u001b[0m \u001b[0mn1\u001b[0m \u001b[1;33m*\u001b[0m \u001b[0mn2\u001b[0m\u001b[1;33m\u001b[0m\u001b[1;33m\u001b[0m\u001b[0m\n\u001b[0;32m      5\u001b[0m \u001b[1;33m\u001b[0m\u001b[0m\n\u001b[1;32m----> 6\u001b[1;33m \u001b[0mprint\u001b[0m\u001b[1;33m(\u001b[0m\u001b[0mmyMultiply\u001b[0m\u001b[1;33m(\u001b[0m\u001b[1;34m\"1\"\u001b[0m\u001b[1;33m,\u001b[0m \u001b[1;34m\"2\"\u001b[0m\u001b[1;33m)\u001b[0m\u001b[1;33m)\u001b[0m\u001b[1;33m\u001b[0m\u001b[1;33m\u001b[0m\u001b[0m\n\u001b[0m",
      "\u001b[1;32m~\\AppData\\Local\\Temp/ipykernel_2460/3865026481.py\u001b[0m in \u001b[0;36mmyMultiply\u001b[1;34m(n1, n2)\u001b[0m\n\u001b[0;32m      2\u001b[0m \u001b[1;33m\u001b[0m\u001b[0m\n\u001b[0;32m      3\u001b[0m \u001b[1;32mdef\u001b[0m \u001b[0mmyMultiply\u001b[0m\u001b[1;33m(\u001b[0m\u001b[0mn1\u001b[0m\u001b[1;33m:\u001b[0m \u001b[0mint\u001b[0m\u001b[1;33m,\u001b[0m \u001b[0mn2\u001b[0m\u001b[1;33m:\u001b[0m \u001b[0mint\u001b[0m\u001b[1;33m)\u001b[0m \u001b[1;33m->\u001b[0m \u001b[0mint\u001b[0m\u001b[1;33m:\u001b[0m\u001b[1;33m\u001b[0m\u001b[1;33m\u001b[0m\u001b[0m\n\u001b[1;32m----> 4\u001b[1;33m     \u001b[1;32mreturn\u001b[0m \u001b[0mn1\u001b[0m \u001b[1;33m*\u001b[0m \u001b[0mn2\u001b[0m\u001b[1;33m\u001b[0m\u001b[1;33m\u001b[0m\u001b[0m\n\u001b[0m\u001b[0;32m      5\u001b[0m \u001b[1;33m\u001b[0m\u001b[0m\n\u001b[0;32m      6\u001b[0m \u001b[0mprint\u001b[0m\u001b[1;33m(\u001b[0m\u001b[0mmyMultiply\u001b[0m\u001b[1;33m(\u001b[0m\u001b[1;34m\"1\"\u001b[0m\u001b[1;33m,\u001b[0m \u001b[1;34m\"2\"\u001b[0m\u001b[1;33m)\u001b[0m\u001b[1;33m)\u001b[0m\u001b[1;33m\u001b[0m\u001b[1;33m\u001b[0m\u001b[0m\n",
      "\u001b[1;31mTypeError\u001b[0m: can't multiply sequence by non-int of type 'str'"
     ]
    }
   ],
   "source": [
    "# mypy를 사용한 변수 타입 검증 예시\n",
    "import mypy\n",
    "\n",
    "def myMultiply(n1: int, n2: int) -> int:\n",
    "    return n1 * n2\n",
    " \n",
    "print(myMultiply(\"1\", \"2\"))"
   ]
  },
  {
   "cell_type": "markdown",
   "id": "d9073d68",
   "metadata": {},
   "source": [
    "# 코드 주석\n",
    "\n",
    "- 가능한 한 적은 주석을 갖는 것을 목표\n",
    "- 좋은 코드는 코드 자체가 문서화됨(의미 있는 함수나 객체를 통해 책임 분리)\n",
    "- 주석 처리된 코드는 바로 삭제(혼란 야기)"
   ]
  },
  {
   "cell_type": "markdown",
   "id": "c98a21a6",
   "metadata": {},
   "source": [
    "# Docstring\n",
    "\n",
    "- 소스 코드에 포함된 문서\n",
    "- 로직의 일부분을 무서화하기 위해 배치\n",
    "- Docstring은 모듈, 클래스, 메소드, 함수에 대해 문서를 제공\n",
    "- 동작방식과 입출력 정보 등을 확인할 수 있어야함\n",
    "- 프로그램 디자인과 아키텍처에 대해 문서화하는 데에 유용함\n",
    "- Python의 경우 동적 데이터 타입을 가져 필수적임"
   ]
  },
  {
   "cell_type": "code",
   "execution_count": 10,
   "id": "d1ac6b1d",
   "metadata": {
    "ExecuteTime": {
     "end_time": "2023-01-04T01:11:34.845007Z",
     "start_time": "2023-01-04T01:11:34.829374Z"
    }
   },
   "outputs": [
    {
     "data": {
      "text/plain": [
       "'\\nDocstring:\\nD.update([E, ]**F) -> None.  Update D from dict/iterable E and F.\\nIf E is present and has a .keys() method, then does:  for k in E: D[k] = E[k]\\nIf E is present and lacks a .keys() method, then does:  for k, v in E: D[k] = v\\nIn either case, this is followed by: for k in F:  D[k] = F[k]\\nType:      method_descriptor\\n'"
      ]
     },
     "execution_count": 10,
     "metadata": {},
     "output_type": "execute_result"
    }
   ],
   "source": [
    "# Docstring 예시\n",
    "\n",
    "dict.update??\n",
    "\n",
    "\"\"\"\n",
    "Docstring:\n",
    "D.update([E, ]**F) -> None.  Update D from dict/iterable E and F.\n",
    "If E is present and has a .keys() method, then does:  for k in E: D[k] = E[k]\n",
    "If E is present and lacks a .keys() method, then does:  for k, v in E: D[k] = v\n",
    "In either case, this is followed by: for k in F:  D[k] = F[k]\n",
    "Type:      method_descriptor\n",
    "\"\"\""
   ]
  },
  {
   "cell_type": "markdown",
   "id": "97edba64",
   "metadata": {},
   "source": [
    "- docstring은 코드에서 분리되거나 독립된 것이 아니다.\n",
    "- 객체에 docstring이 정의된 경우 __doc__ 속성을 통해 접근 가능하다."
   ]
  },
  {
   "cell_type": "code",
   "execution_count": 18,
   "id": "27cd5307",
   "metadata": {
    "ExecuteTime": {
     "end_time": "2023-01-04T01:12:39.315097Z",
     "start_time": "2023-01-04T01:12:39.311586Z"
    }
   },
   "outputs": [
    {
     "name": "stdout",
     "output_type": "stream",
     "text": [
      "Help on function my_function in module __main__:\n",
      "\n",
      "my_function()\n",
      "    임의의 계산 수행\n",
      "\n"
     ]
    }
   ],
   "source": [
    "def my_function():\n",
    "    \"\"\"임의의 계산 수행\"\"\" # docstring\n",
    "    return None\n",
    "\n",
    "# docstring 출력 1\n",
    "my_function.__doc__\n",
    "\n",
    "# docstring 출력 2\n",
    "help(my_function)"
   ]
  },
  {
   "cell_type": "markdown",
   "id": "ab931306",
   "metadata": {},
   "source": [
    "# 어노테이션(Annotation)\n",
    "\n",
    "- PEP-3107은 어노테이션을 소개함\n",
    "- 코드 사용자에게 함수 인자로 어떤 값이 와야 하는지 힌트를 주자는 것\n",
    "- 타입 힌팅(type hinting)을 활성화\n",
    "\n",
    "- 변수의 예상 타입을 지정 가능"
   ]
  },
  {
   "cell_type": "code",
   "execution_count": 12,
   "id": "9c907de5",
   "metadata": {
    "ExecuteTime": {
     "end_time": "2023-01-04T02:18:05.244738Z",
     "start_time": "2023-01-04T02:18:05.233736Z"
    }
   },
   "outputs": [],
   "source": [
    "@dataclass\n",
    "class Point:\n",
    "    lat: float\n",
    "    long: float\n",
    "\n",
    "\n",
    "def locate(latitude: float, longitude: float) -> Point: # parameter에 필요한 데이터 타입과 return 타입 명시\n",
    "    \"\"\"Find an object in the map by its coordinates\"\"\"\n",
    "    return Point(latitude, longitude)\n",
    "\n",
    "locate??"
   ]
  },
  {
   "cell_type": "markdown",
   "id": "91afd5e6",
   "metadata": {},
   "source": [
    "- 위 예시에서 Point 클래스가 갖는 lat, long 속성은 float 타입을 갖지만 Python이 타입 검사를 강제하지 않는다.\n",
    "- 어노테이션을 통해 변수의 의도를 설명하는 문자열, 콜백이나 유효성 검사 함수로 사용할 수 있는 callable 등 가능"
   ]
  },
  {
   "cell_type": "markdown",
   "id": "591130b5",
   "metadata": {},
   "source": [
    "어노테이션을 사용해 몇 초 후 어떤 작업을 실행하는 함수를 작성하는 경우"
   ]
  },
  {
   "cell_type": "code",
   "execution_count": 8,
   "id": "9e1b7a77",
   "metadata": {
    "ExecuteTime": {
     "end_time": "2023-01-04T02:13:22.354891Z",
     "start_time": "2023-01-04T02:13:22.337868Z"
    }
   },
   "outputs": [],
   "source": [
    "def launch_task(delay_in_seconds):\n",
    "    return None"
   ]
  },
  {
   "cell_type": "markdown",
   "id": "56f8b22b",
   "metadata": {},
   "source": [
    "위 함수는 허용 가능한 지연시간은 몇 초인지? 분수를 입력해도 되는지? 코드 수정을 한다면 어떻게 진행할지에 대한 충분한 정보가 제공되지 못한다."
   ]
  },
  {
   "cell_type": "code",
   "execution_count": 21,
   "id": "0b3b2112",
   "metadata": {
    "ExecuteTime": {
     "end_time": "2023-01-04T02:19:44.382627Z",
     "start_time": "2023-01-04T02:19:44.376539Z"
    }
   },
   "outputs": [],
   "source": [
    "# 초단위는 float으로 받기로 명시\n",
    "Seconds = float\n",
    "\n",
    "# delay는 초로 받는 것으로 명시\n",
    "def launch_task(delay: Seconds):\n",
    "    return None"
   ]
  },
  {
   "cell_type": "markdown",
   "id": "b5cf0303",
   "metadata": {},
   "source": [
    "어노테이션을 사용하면 코드 스스로 자신의 기능에 대해 말을 한다고 할 수 있다. \n",
    "\n",
    "위 코드의 경우 시간을 어떻게 해석할지에 대해 작은 추상화를 했다고 할 수 있다.\n",
    "\n",
    "나중에 입력 값의 형태를 변경하기로 했다면 이제 한 곳에서만 관련 내용을 변경하면 된다."
   ]
  },
  {
   "cell_type": "markdown",
   "id": "411e6e69",
   "metadata": {},
   "source": [
    "어노테이션을 사용하면 **__annotations__** 이라는 특수한 속성이 생긴다.\n",
    "\n",
    "속성은 어노테이션의 이름과 매핑한 사전 타입의 값이다."
   ]
  },
  {
   "cell_type": "code",
   "execution_count": 22,
   "id": "314273a2",
   "metadata": {
    "ExecuteTime": {
     "end_time": "2023-01-04T02:19:47.158199Z",
     "start_time": "2023-01-04T02:19:47.148202Z"
    }
   },
   "outputs": [
    {
     "data": {
      "text/plain": [
       "{'delay': float}"
      ]
     },
     "execution_count": 22,
     "metadata": {},
     "output_type": "execute_result"
    }
   ],
   "source": [
    "launch_task.__annotations__"
   ]
  },
  {
   "cell_type": "code",
   "execution_count": 23,
   "id": "909a4d66",
   "metadata": {
    "ExecuteTime": {
     "end_time": "2023-01-04T02:19:47.398118Z",
     "start_time": "2023-01-04T02:19:47.392118Z"
    }
   },
   "outputs": [
    {
     "data": {
      "text/plain": [
       "{'latitude': float, 'longitude': float, 'return': __main__.Point}"
      ]
     },
     "execution_count": 23,
     "metadata": {},
     "output_type": "execute_result"
    }
   ],
   "source": [
    "locate.__annotations__"
   ]
  },
  {
   "cell_type": "markdown",
   "id": "1f6b240a",
   "metadata": {},
   "source": [
    "위 어노테이션 정보를 통해 문서 생성, 유효성 검증 또는 타입 체크를 할 수 있다."
   ]
  },
  {
   "cell_type": "markdown",
   "id": "ae698d65",
   "metadata": {},
   "source": [
    "어노테이션은 단순히 힌팅의 역할을 하는 것이 아니다. 다음과 같ㅇ티 유의미한 이름을 사용하거나 적절한 데이터 타입 추상화를 하도록 도와준다."
   ]
  },
  {
   "cell_type": "markdown",
   "id": "6fd8715e",
   "metadata": {},
   "source": [
    "## 메소드 파라미터의 추상화"
   ]
  },
  {
   "cell_type": "markdown",
   "id": "89457478",
   "metadata": {
    "ExecuteTime": {
     "end_time": "2023-01-04T04:36:39.616978Z",
     "start_time": "2023-01-04T04:36:39.600967Z"
    }
   },
   "source": [
    "### typing module"
   ]
  },
  {
   "cell_type": "code",
   "execution_count": 60,
   "id": "44039fb1",
   "metadata": {
    "ExecuteTime": {
     "end_time": "2023-01-04T04:41:57.347659Z",
     "start_time": "2023-01-04T04:41:57.341664Z"
    }
   },
   "outputs": [],
   "source": [
    "# 함수의 파라미터의 데이터타입을 명시\n",
    "\n",
    "def process_clients(clients: list):\n",
    "    return None"
   ]
  },
  {
   "cell_type": "code",
   "execution_count": 28,
   "id": "9fe04370",
   "metadata": {
    "ExecuteTime": {
     "end_time": "2023-01-04T02:24:05.503202Z",
     "start_time": "2023-01-04T02:24:05.487118Z"
    }
   },
   "outputs": [],
   "source": [
    "# 세부적인 내용을 명시하는 경우\n",
    "\n",
    "def process_clients(clients: list[tuple[int, str]]):\n",
    "    return None"
   ]
  },
  {
   "cell_type": "code",
   "execution_count": 30,
   "id": "e46e5334",
   "metadata": {
    "ExecuteTime": {
     "end_time": "2023-01-04T02:25:57.933629Z",
     "start_time": "2023-01-04T02:25:57.926648Z"
    }
   },
   "outputs": [],
   "source": [
    "# 데이터 구조를 따로 정의하여 명시적으로 작성하는 경우\n",
    "\n",
    "from typing import Tuple\n",
    "\n",
    "# typing 모듈을 통해 Client는 int, str 을 갖는 튜플 데이터 타입으로 명시\n",
    "Client = Tuple[int, str]\n",
    "def process_clients(clients: list[Client]):\n",
    "    return None"
   ]
  },
  {
   "cell_type": "code",
   "execution_count": 32,
   "id": "3db4a714",
   "metadata": {
    "ExecuteTime": {
     "end_time": "2023-01-04T02:26:07.793212Z",
     "start_time": "2023-01-04T02:26:07.779226Z"
    }
   },
   "outputs": [
    {
     "data": {
      "text/plain": [
       "{'clients': list[typing.Tuple[int, str]]}"
      ]
     },
     "execution_count": 32,
     "metadata": {},
     "output_type": "execute_result"
    }
   ],
   "source": [
    "# clients는 int, str로 구성된 list \n",
    "\n",
    "process_clients.__annotations__"
   ]
  },
  {
   "cell_type": "markdown",
   "id": "9c951e85",
   "metadata": {},
   "source": [
    "위와 같이 코드를 작성하는 것은 유의미한 문법 구조를 통해 코드의 의미나 의도를 더욱 쉽게 이해할 수 있도록 하자는 것이다."
   ]
  },
  {
   "cell_type": "markdown",
   "id": "8aaa58e4",
   "metadata": {},
   "source": [
    "@dataclass 데코레이터를 사용하면 별도의 __init__ 메소드에 변수를 선언하고 할당하는 작업을 하지 않아도 바로 인스턴스 속성으로 인식시킬 수 있다."
   ]
  },
  {
   "cell_type": "markdown",
   "id": "1b973cfc",
   "metadata": {
    "ExecuteTime": {
     "end_time": "2023-01-04T02:33:47.182077Z",
     "start_time": "2023-01-04T02:33:47.175076Z"
    }
   },
   "source": [
    "## 인스턴스 속성 인식"
   ]
  },
  {
   "cell_type": "code",
   "execution_count": 68,
   "id": "6c981729",
   "metadata": {
    "ExecuteTime": {
     "end_time": "2023-01-04T04:42:56.254826Z",
     "start_time": "2023-01-04T04:42:56.242757Z"
    }
   },
   "outputs": [
    {
     "data": {
      "text/plain": [
       "<__main__.Point at 0x21331bba670>"
      ]
     },
     "execution_count": 68,
     "metadata": {},
     "output_type": "execute_result"
    }
   ],
   "source": [
    "# AS-IS\n",
    "\n",
    "class Point:\n",
    "    def __init__(self, lat, long):\n",
    "        self.lat = lat\n",
    "        self.long = long\n",
    "        \n",
    "Point(1.2, 3.1)"
   ]
  },
  {
   "cell_type": "code",
   "execution_count": 42,
   "id": "35debc3e",
   "metadata": {
    "ExecuteTime": {
     "end_time": "2023-01-04T02:32:45.788752Z",
     "start_time": "2023-01-04T02:32:45.777734Z"
    }
   },
   "outputs": [
    {
     "name": "stdout",
     "output_type": "stream",
     "text": [
      "{'lat': <class 'float'>, 'long': <class 'float'>}\n"
     ]
    },
    {
     "data": {
      "text/plain": [
       "Point(lat=1.1, long=2.1)"
      ]
     },
     "execution_count": 42,
     "metadata": {},
     "output_type": "execute_result"
    }
   ],
   "source": [
    "# TO-BE\n",
    "\n",
    "@dataclass\n",
    "class Point:\n",
    "    lat: float\n",
    "    long: float\n",
    "        \n",
    "print(Point.__annotations__)\n",
    "Point(1.1, 2.1)"
   ]
  },
  {
   "cell_type": "markdown",
   "id": "210e3599",
   "metadata": {},
   "source": [
    "# Dataclass"
   ]
  },
  {
   "cell_type": "markdown",
   "id": "355d3fa8",
   "metadata": {},
   "source": [
    "- dataclasses 모듈은 __init__(), __repr__() 과 같은 특수 메소드를 사용자 정의 클래스에 자동 추가하는 데코레이터와 함수를 제공\n",
    "- PEP 557 참고"
   ]
  },
  {
   "cell_type": "code",
   "execution_count": 57,
   "id": "98e2797f",
   "metadata": {
    "ExecuteTime": {
     "end_time": "2023-01-04T04:41:24.122395Z",
     "start_time": "2023-01-04T04:41:24.108405Z"
    }
   },
   "outputs": [],
   "source": [
    "from dataclasses import dataclass\n",
    "\n",
    "@dataclass\n",
    "class InventoryItem:\n",
    "    \"\"\"Class for keeping track of an item in inventory.\"\"\" # for docstring\n",
    "    # set attributes with datatype\n",
    "    name: str\n",
    "    unit_price: float\n",
    "    quantity_on_hand: int = 0\n",
    "    \n",
    "    # set parameters with datatype and defualt value\n",
    "    def __init__(self, name: str, unit_price: float, quantity_on_hand: int = 0):\n",
    "        self.name = name\n",
    "        self.unit_price = unit_price\n",
    "        self.quantity_on_hand = quantity_on_hand\n",
    "    \n",
    "    # set return datatype\n",
    "    def total_cost(self) -> float:\n",
    "        return self.unit_price * self.quantity_on_hand"
   ]
  },
  {
   "cell_type": "markdown",
   "id": "72300cf1",
   "metadata": {},
   "source": [
    "## dataclass parameter\n",
    "\n",
    "\n",
    "init: 참(기본값)이면, __init__() 메서드가 생성됩니다.\n",
    "\n",
    "클래스가 이미 __init__() 를 정의했으면, 이 매개변수는 무시됩니다.\n",
    "\n",
    "repr: 참(기본값)이면, __repr__() 메서드가 생성됩니다. 생성된 repr 문자열은 클래스 이름과 각 필드의 이름과 repr 을 갖습니다. 각 필드는 클래스에 정의된 순서대로 표시됩니다. repr에서 제외하도록 표시된 필드는 포함되지 않습니다. 예를 들어: 예 :InventoryItem(name='widget', unit_price=3.0, quantity_on_hand=10).\n",
    "\n",
    "클래스가 이미 __repr__() 을 정의했으면, 이 매개변수는 무시됩니다.\n",
    "\n",
    "eq: 참(기본값)이면, __eq__() 메서드가 생성됩니다. 이 메서드는 클래스를 필드의 튜플인 것처럼 순서대로 비교합니다. 비교되는 두 인스턴스는 같은 형이어야 합니다.\n",
    "\n",
    "클래스가 이미 __eq__() 를 정의했으면, 이 매개변수는 무시됩니다.\n",
    "\n",
    "order: 참이면 (기본값은 False), __lt__(), __le__(), __gt__(), __ge__() 메서드가 생성됩니다. 이것들은 클래스를 필드의 튜플인 것처럼 순서대로 비교합니다. 비교되는 두 인스턴스는 같은 형이어야 합니다. order 가 참이고 eq 가 거짓이면 ValueError 가 발생합니다.\n",
    "\n",
    "클래스가 이미 __lt__(), __le__(), __gt__(), __ge__() 중 하나를 정의하고 있다면 TypeError 가 발생합니다.\n",
    "\n",
    "unsafe_hash: False (기본값) 면 : eq 와 frozen 의 설정에 따라 __hash__() 메서드가 생성됩니다.\n",
    "\n",
    "__hash__() 는 내장 hash() 에 의해 사용되며, 딕셔너리와 집합 같은 해시 컬렉션에 객체가 추가될 때 사용됩니다. __hash__() 를 갖는다는 것은 클래스의 인스턴스가 불변이라는 것을 의미합니다. 가변성은 프로그래머의 의도, __eq__() 의 존재와 행동, dataclass() 데코레이터의 eq 와 frozen 플래그의 값에 의존하는 복잡한 성질입니다.\n",
    "\n",
    "기본적으로, dataclass() 는 안전하지 않다면 __hash__() 메서드를 묵시적으로 추가하지 않습니다. 기존에 명시적으로 정의된 __hash__() 메서드를 추가하거나 변경하지도 않습니다. __hash__() 문서에서 설명된 대로, 클래스 어트리뷰트를 __hash__ = None 로 설정하는 것은 파이썬에 특별한 의미가 있습니다.\n",
    "\n",
    "__hash__() 가 명시적으로 정의되어 있지 않거나 None 으로 설정된 경우, dataclass() 는 묵시적 __hash__() 메서드를 추가할 수 있습니다. 권장하지는 않지만, unsafe_hash=True 로 dataclass() 가 __hash__() 메서드를 만들도록 강제할 수 있습니다. 이것은 당신의 클래스가 논리적으로 불변이지만, 그런데도 변경될 수 있는 경우 일 수 있습니다. 이는 특수한 사용 사례이므로 신중하게 고려해야 합니다.\n",
    "\n",
    "다음은 __hash__() 메서드의 묵시적 생성을 관장하는 규칙입니다. 데이터 클래스에 명시적 __hash__() 메서드를 가지면서 unsafe_hash=True 를 설정할 수는 없습니다; 그러면 TypeError 가 발생합니다.\n",
    "\n",
    "eq 와 frozen 이 모두 참이면, 기본적으로 dataclass() 는 __hash__() 메서드를 만듭니다. eq 가 참이고 frozen 이 거짓이면, __hash__() 가 None 으로 설정되어 해시 불가능하다고 표시됩니다(가변이기 때문입니다). 만약 eq 가 거짓이면, __hash__() 를 건드리지 않는데, 슈퍼 클래스의 __hash__() 가 사용된다는 뜻이 됩니다 (슈퍼 클래스가 object 라면, id 기반 해싱으로 돌아간다는 뜻입니다).\n",
    "\n",
    "frozen: 참이면 (기본값은 False), 필드에 대입하면 예외를 발생시킵니다. 이것은 읽기 전용 고정 인스턴스를 흉내 냅니다. __setattr__() 또는 __delattr__() 이 클래스에 정의되어 있다면 TypeError 가 발생합니다. 아래 토론을 참조하십시오.\n",
    "\n",
    "match_args: If true (the default is True), the __match_args__ tuple will be created from the list of parameters to the generated __init__() method (even if __init__() is not generated, see above). If false, or if __match_args__ is already defined in the class, then __match_args__ will not be generated.\n",
    "\n",
    "버전 3.10에 추가.\n",
    "\n",
    "kw_only: If true (the default value is False), then all fields will be marked as keyword-only. If a field is marked as keyword-only, then the only effect is that the __init__() parameter generated from a keyword-only field must be specified with a keyword when __init__() is called. There is no effect on any other aspect of dataclasses. See the parameter glossary entry for details. Also see the KW_ONLY section.\n",
    "\n",
    "함수 혹은 메소드 호출시 parameter의 keyword를 필수로 입력하도록 지정\n",
    "\n",
    "버전 3.10에 추가.\n",
    "\n",
    "slots: If true (the default is False), __slots__ attribute will be generated and new class will be returned instead of the original one. If __slots__ is already defined in the class, then TypeError is raised.\n",
    "\n",
    "버전 3.10에 추가.\n",
    "\n",
    "버전 3.11에서 변경: If a field name is already included in the __slots__ of a base class, it will not be included in the generated __slots__ to prevent overriding them. Therefore, do not use __slots__ to retrieve the field names of a dataclass. Use fields() instead. To be able to determine inherited slots, base class __slots__ may be any iterable, but not an iterator.\n",
    "\n",
    "weakref_slot: If true (the default is False), add a slot named “__weakref__”, which is required to make an instance weakref-able. It is an error to specify weakref_slot=True without also specifying slots=True."
   ]
  },
  {
   "cell_type": "code",
   "execution_count": 7,
   "id": "18eb451f",
   "metadata": {
    "ExecuteTime": {
     "end_time": "2023-01-04T02:07:29.420301Z",
     "start_time": "2023-01-04T02:07:29.413306Z"
    }
   },
   "outputs": [
    {
     "ename": "SyntaxError",
     "evalue": "unexpected EOF while parsing (Temp/ipykernel_20976/3299092488.py, line 2)",
     "output_type": "error",
     "traceback": [
      "\u001b[1;36m  File \u001b[1;32m\"C:\\Users\\kimdo\\AppData\\Local\\Temp/ipykernel_20976/3299092488.py\"\u001b[1;36m, line \u001b[1;32m2\u001b[0m\n\u001b[1;33m    match_args=True, kw_only=False, slots=False, weakref_slot=False)\u001b[0m\n\u001b[1;37m                                                                    ^\u001b[0m\n\u001b[1;31mSyntaxError\u001b[0m\u001b[1;31m:\u001b[0m unexpected EOF while parsing\n"
     ]
    }
   ],
   "source": [
    "@dataclass(init=True, repr=True, eq=True, order=False, unsafe_hash=False, frozen=False,\n",
    "           match_args=True, kw_only=False, slots=False, weakref_slot=False)"
   ]
  },
  {
   "cell_type": "markdown",
   "id": "54b03a76",
   "metadata": {},
   "source": [
    "# 도구 설정"
   ]
  },
  {
   "cell_type": "markdown",
   "id": "0ec0e455",
   "metadata": {},
   "source": [
    "- 반복적인 확인 작업을 줄이기 위해 코드 검사를 자동으로 실행하는 기본 도구 설정\n",
    "- 코드는 사람이 이해하기 위한 것으로 좋은/나쁜 코드의 판단은 오직 사람이라는 것을 기억\n",
    "- 다음의 질문에 답해볼 것\n",
    "\n",
    "\n",
    "    - 동료 개발자가 쉽게 이해하고 따라갈 수 있는가?\n",
    "    - 업무 도메인에 대해서 말하고 있는가?\n",
    "    - 팀에 새로 합류하는 사람도 쉽게 이해하고 효과적으로 작업할 수 있는가?\n",
    "\n",
    "\n",
    "- 코드 포매팅, 일관된 레이아웃, 적절한 들여쓰기는 당연한 것으로 이를 검사하는데 시간을 낭비하지 않고 자동화하여 확보한 시간을 이용해 레이아웃의 개념을 뛰어 넘는 그 이상의 것을 읽고 쓸 수 있어야 한다.\n",
    "\n",
    "\n",
    "- **테스트와 체크리스트가 지속적으로 통합 빌드의 하나가 되도록 해야 하며 빌드 중 테스트를 통과하지 못하면 빌드 전체가 실패해야한다.**\n",
    "\n",
    "- 이것만이 코드의 구조를 일관되게 유지할 수 있는 유일한 방법이다.\n",
    "- 이러한 검사 결과를 팀에서 사용하는 객관적인 지표로 활용해야한다.\n",
    "- 도구를 사용한다는 것은 특정 검사를 **반복**적으로 **자동화** 한다는 것을 의미한다.\n",
    "- 즉 로컬 개발 환경에서 검사한 결과가 다른 곳에서 검사한 결과와 항상 일치해야한다.\n",
    "- 이러한 도구는 CI(Continuous Integration) 빌드의 일부분으로 포함되어야 한다."
   ]
  },
  {
   "cell_type": "markdown",
   "id": "e22de965",
   "metadata": {},
   "source": [
    "# 데이터 타입 일관성 검사\n",
    "\n",
    "- 타입 힌트가 파이썬에 도입된 이후 데이터 타입의 일관성을 확인하기 위한 많은 도구가 개발됨\n",
    "    - mypy\n",
    "        - !pip install mypy\n",
    "        - mypy는 프로젝트의 의존성 목록에 포함하는 것을 추천함\n",
    "        - 가상 환경에 mypy를 설치하고 mypy [파일명] 명령어 실행 시 의심되는 오류들을 보고함\n",
    "        - mypy 역시 완벽하지 않아 잘못된 오류 탐지는 다음과 같이 무시함\n",
    "            - type_to_ignore = \"something\" # type : ignore\n",
    "        - mypy를 유용하게 사용하려면 어노테이션 작성을 정확하게 해야한다.\n",
    "        - 타입의 범위가 너무 일반적이면 정상적인 경우라고 판단하기 때문이다."
   ]
  },
  {
   "cell_type": "code",
   "execution_count": 120,
   "id": "f31f40a5",
   "metadata": {
    "ExecuteTime": {
     "end_time": "2023-01-04T05:04:52.336030Z",
     "start_time": "2023-01-04T05:04:52.306924Z"
    }
   },
   "outputs": [
    {
     "name": "stderr",
     "output_type": "stream",
     "text": [
      "INFO:__main__:welcome 메세지를 u에게 전달\n",
      "INFO:__main__:welcome 메세지를 s에게 전달\n",
      "INFO:__main__:welcome 메세지를 e에게 전달\n",
      "INFO:__main__:welcome 메세지를 r에게 전달\n",
      "INFO:__main__:welcome 메세지를 1에게 전달\n",
      "INFO:__main__:welcome 메세지를 @에게 전달\n",
      "INFO:__main__:welcome 메세지를 d에게 전달\n",
      "INFO:__main__:welcome 메세지를 o에게 전달\n",
      "INFO:__main__:welcome 메세지를 m에게 전달\n",
      "INFO:__main__:welcome 메세지를 a에게 전달\n",
      "INFO:__main__:welcome 메세지를 i에게 전달\n",
      "INFO:__main__:welcome 메세지를 n에게 전달\n",
      "INFO:__main__:welcome 메세지를 .에게 전달\n",
      "INFO:__main__:welcome 메세지를 c에게 전달\n",
      "INFO:__main__:welcome 메세지를 o에게 전달\n",
      "INFO:__main__:welcome 메세지를 m에게 전달\n"
     ]
    }
   ],
   "source": [
    "import logging\n",
    "from typing import Iterable\n",
    "\n",
    "logging.basicConfig(level=logging.INFO)\n",
    "logger = logging.getLogger(__name__)\n",
    "\n",
    "def broadcast_notification(message: str, relevant_user_emails: Iterable[str]):\n",
    "    for email in relevant_user_emails:\n",
    "        logger.info(f\"{message} 메세지를 {email}에게 전달\")\n",
    "        \n",
    "broadcast_notification(\"welcome\", \"user1@domain.com\")"
   ]
  },
  {
   "cell_type": "markdown",
   "id": "d3c87fef",
   "metadata": {},
   "source": [
    "- 위 코드의 경우 분명 잘못된 코드이지만 mypy 검사 결과 이상이 없는 코드이다.\n",
    "- 위 함수의 relevant_user_emails를 list나 tuple로 제한하면 mypy가 제대로 오류를 보고할 것이다."
   ]
  },
  {
   "cell_type": "code",
   "execution_count": 130,
   "id": "8c34c47f",
   "metadata": {
    "ExecuteTime": {
     "end_time": "2023-01-04T05:15:13.979137Z",
     "start_time": "2023-01-04T05:15:13.968140Z"
    }
   },
   "outputs": [
    {
     "name": "stderr",
     "output_type": "stream",
     "text": [
      "INFO:__main__:welcome 메세지를 user1@domain.com에게 전달\n"
     ]
    }
   ],
   "source": [
    "import logging\n",
    "from typing import Union, List, Tuple\n",
    "\n",
    "logging.basicConfig(level=logging.INFO)\n",
    "logger = logging.getLogger(__name__)\n",
    "\n",
    "# 복수의 데이터 타입을 허용하는 경우 Union 사용\n",
    "def broadcast_notification(message: str, relevant_user_emails: Union[List[str], Tuple[str]]):\n",
    "    for email in relevant_user_emails:\n",
    "        logger.info(f\"{message} 메세지를 {email}에게 전달\")\n",
    "        \n",
    "broadcast_notification(\"welcome\", [\"user1@domain.com\"])"
   ]
  },
  {
   "cell_type": "markdown",
   "id": "05409d47",
   "metadata": {
    "ExecuteTime": {
     "end_time": "2023-01-04T05:17:33.528720Z",
     "start_time": "2023-01-04T05:17:33.516653Z"
    }
   },
   "source": [
    "mypy와 pytype의 한 가지 큰 차이점은 오류를 확인하는 시점이다.\n",
    "\n",
    "pytype의 경우 일시적으로 지정된 데이터 타입과 다른 타입을 사용하여도 최종 결과가 선언된 유형을 준수하는 한 문제로 간주되지 않는다.\n",
    "이것이 좋은 특성일 수 있지만 일반적으로 코드는 항상성을 유지하는 것이 바람직하다."
   ]
  },
  {
   "cell_type": "markdown",
   "id": "b0933197",
   "metadata": {},
   "source": [
    "## mypy와 pytype의 차이점"
   ]
  },
  {
   "cell_type": "code",
   "execution_count": 137,
   "id": "0eec5428",
   "metadata": {
    "ExecuteTime": {
     "end_time": "2023-01-04T05:21:36.010003Z",
     "start_time": "2023-01-04T05:21:35.996915Z"
    }
   },
   "outputs": [],
   "source": [
    "# mymy에서는 오류이지만 pytype은 오류가 아닌 경우\n",
    "\n",
    "from typing import List\n",
    "def get_list() -> List[str]: # 항상성을 List[str]으로 유지\n",
    "    lst = [\"Pycon\"]\n",
    "    lst.append(2023) # int가 추가되어 mypy에서 오류 발생\n",
    "    return [str(x) for x in lst] # 결과적으로는 str 형변환이 수행되어 pytype은 오류 미발생"
   ]
  },
  {
   "cell_type": "markdown",
   "id": "530c918e",
   "metadata": {},
   "source": [
    "## black\n",
    "\n",
    "- black은 라인 길이 제외와 같은 옵션을 허용하지 않으면서 고유하고 결정적인 방식으로 코드 형식을 지정하는 특징이 있다.\n",
    "- 마치 한 사람이 작성한 코드처럼 코드를 통일된 스타일로 변경해주는 도구이다.\n",
    "- https://github.com/psf/black"
   ]
  }
 ],
 "metadata": {
  "kernelspec": {
   "display_name": "Python 3 (ipykernel)",
   "language": "python",
   "name": "python3"
  },
  "language_info": {
   "codemirror_mode": {
    "name": "ipython",
    "version": 3
   },
   "file_extension": ".py",
   "mimetype": "text/x-python",
   "name": "python",
   "nbconvert_exporter": "python",
   "pygments_lexer": "ipython3",
   "version": "3.9.7"
  },
  "toc": {
   "base_numbering": 1,
   "nav_menu": {},
   "number_sections": true,
   "sideBar": true,
   "skip_h1_title": false,
   "title_cell": "Table of Contents",
   "title_sidebar": "Contents",
   "toc_cell": false,
   "toc_position": {
    "height": "calc(100% - 180px)",
    "left": "10px",
    "top": "150px",
    "width": "384px"
   },
   "toc_section_display": true,
   "toc_window_display": true
  }
 },
 "nbformat": 4,
 "nbformat_minor": 5
}
